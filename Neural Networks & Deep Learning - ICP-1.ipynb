{
 "cells": [
  {
   "cell_type": "code",
   "execution_count": null,
   "id": "930f8149",
   "metadata": {},
   "outputs": [],
   "source": [
    "                                            Spring 2023: CS5720\n",
    "                                   Neural Networks & Deep Learning - ICP-1"
   ]
  },
  {
   "cell_type": "code",
   "execution_count": null,
   "id": "6d7ce833",
   "metadata": {},
   "outputs": [],
   "source": [
    "#Question1(a)"
   ]
  },
  {
   "cell_type": "code",
   "execution_count": 14,
   "id": "03383774",
   "metadata": {},
   "outputs": [
    {
     "name": "stdout",
     "output_type": "stream",
     "text": [
      "Enter the string:python\n",
      "String after deleting some characters and reversing the String is \" ntyp \"\n"
     ]
    }
   ],
   "source": [
    "# Question: Input the string “Python” as a list of characters from console, delete at least 2 characters, reverse the resultant string and print it.\n",
    "#String entered by the user\n",
    "string = input('Enter the string:')\n",
    "#String slicing and concadinating the sliced string to get the desired string after delating  some characters\n",
    "sub = string[0:3] + string[5:]\n",
    "#String reversing and printing the reversed string\n",
    "print('String after deleting some characters and reversing the String is \"', sub[::-1],'\"')"
   ]
  },
  {
   "cell_type": "code",
   "execution_count": null,
   "id": "75d119cb",
   "metadata": {},
   "outputs": [],
   "source": [
    "#Question1(b)"
   ]
  },
  {
   "cell_type": "code",
   "execution_count": 15,
   "id": "6bc05e56",
   "metadata": {},
   "outputs": [
    {
     "name": "stdout",
     "output_type": "stream",
     "text": [
      "Enter First Number: 8\n",
      "Enter Second Number: 4\n",
      "12\n",
      "4\n",
      "32\n",
      "2.0\n"
     ]
    }
   ],
   "source": [
    "#Take two numbers from user and perform at least 4 arithmetic operations on them.\n",
    "#two numbers entered by the user\n",
    "a = int(input(\"Enter First Number: \"));\n",
    "b = int(input(\"Enter Second Number: \"));\n",
    "\n",
    "#Addition\n",
    "print(a+b); \n",
    "#Subtraction\n",
    "print(a-b); \n",
    "#Multiplication\n",
    "print(a*b); \n",
    "#Division\n",
    "print(a/b); "
   ]
  },
  {
   "cell_type": "code",
   "execution_count": null,
   "id": "087523af",
   "metadata": {},
   "outputs": [],
   "source": [
    "#Question 2"
   ]
  },
  {
   "cell_type": "code",
   "execution_count": 16,
   "id": "26e9a189",
   "metadata": {},
   "outputs": [
    {
     "name": "stdout",
     "output_type": "stream",
     "text": [
      "input a sentence:i love python\n",
      "i love pythons\n"
     ]
    }
   ],
   "source": [
    "##3.  Write a program that accepts a sentence and replace each occurrence of ‘python’ with ‘pythons’ without using regex\n",
    "#User entering the sentence\n",
    "inString = input(\"input a sentence:\")\n",
    "#replacing the string using replace function\n",
    "outString = inString.replace('python', 'pythons')\n",
    "#output\n",
    "print(outString)\n"
   ]
  },
  {
   "cell_type": "code",
   "execution_count": null,
   "id": "9cdeb2e2",
   "metadata": {},
   "outputs": [],
   "source": [
    "#Question 3"
   ]
  },
  {
   "cell_type": "code",
   "execution_count": 17,
   "id": "d011776b",
   "metadata": {},
   "outputs": [
    {
     "name": "stdout",
     "output_type": "stream",
     "text": [
      "Enter your score:80\n",
      "Your Grade is B\n"
     ]
    }
   ],
   "source": [
    "#Use the if statement conditions to write a program to print the letter grade based on an input class score. Use\n",
    "#the grading scheme we are using in this class.\n",
    "#Getting the score from the user\n",
    "score = int(input(\"Enter your score:\"));\n",
    "#printing the grade depending on the user input \n",
    "if score >= 90 and score <=100:\n",
    "    print(\"Your Grade is A\");\n",
    "elif score >= 80 and score <=89:\n",
    "    print(\"Your Grade is B\");\n",
    "elif score >= 70 and score <=79:\n",
    "    print(\"Your Grade is C\");\n",
    "elif score >= 60 and score <=69:\n",
    "    print(\"Your Grade is D\");\n",
    "else:\n",
    "    print(\"Your Grade is F\");"
   ]
  },
  {
   "cell_type": "code",
   "execution_count": null,
   "id": "f2f0f3fb",
   "metadata": {},
   "outputs": [],
   "source": []
  }
 ],
 "metadata": {
  "kernelspec": {
   "display_name": "Python 3 (ipykernel)",
   "language": "python",
   "name": "python3"
  },
  "language_info": {
   "codemirror_mode": {
    "name": "ipython",
    "version": 3
   },
   "file_extension": ".py",
   "mimetype": "text/x-python",
   "name": "python",
   "nbconvert_exporter": "python",
   "pygments_lexer": "ipython3",
   "version": "3.8.12"
  }
 },
 "nbformat": 4,
 "nbformat_minor": 5
}
